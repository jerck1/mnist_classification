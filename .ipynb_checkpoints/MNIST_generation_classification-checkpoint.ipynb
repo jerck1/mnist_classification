{
 "cells": [
  {
   "cell_type": "markdown",
   "id": "48986d59",
   "metadata": {},
   "source": [
    "# <center> Clasificación y Generación de Dígitos con la Base de datos MNIST <center>\n",
    "    \n",
    "    Nombres:\n",
    "    Correo:"
   ]
  },
  {
   "cell_type": "markdown",
   "id": "48c4ec1f",
   "metadata": {},
   "source": [
    "## 1) Ingreso de los Datos:"
   ]
  },
  {
   "cell_type": "markdown",
   "id": "94be086b",
   "metadata": {},
   "source": [
    "Ingreso de Módulos:"
   ]
  },
  {
   "cell_type": "code",
   "execution_count": 16,
   "id": "28837b14",
   "metadata": {
    "scrolled": true
   },
   "outputs": [
    {
     "name": "stdout",
     "output_type": "stream",
     "text": [
      "Requirement already satisfied: keras in /home/john/anaconda3/lib/python3.9/site-packages (2.13.1)\n",
      "Requirement already satisfied: scikit-learn in /home/john/anaconda3/lib/python3.9/site-packages (1.0.2)\n",
      "Requirement already satisfied: numpy>=1.14.6 in /home/john/anaconda3/lib/python3.9/site-packages (from scikit-learn) (1.22.4)\n",
      "Requirement already satisfied: scipy>=1.1.0 in /home/john/anaconda3/lib/python3.9/site-packages (from scikit-learn) (1.7.3)\n",
      "Requirement already satisfied: joblib>=0.11 in /home/john/anaconda3/lib/python3.9/site-packages (from scikit-learn) (1.1.0)\n",
      "Requirement already satisfied: threadpoolctl>=2.0.0 in /home/john/anaconda3/lib/python3.9/site-packages (from scikit-learn) (2.2.0)\n",
      "Requirement already satisfied: tensorflow in /home/john/anaconda3/lib/python3.9/site-packages (2.13.0)\n",
      "Requirement already satisfied: absl-py>=1.0.0 in /home/john/anaconda3/lib/python3.9/site-packages (from tensorflow) (2.0.0)\n",
      "Requirement already satisfied: astunparse>=1.6.0 in /home/john/anaconda3/lib/python3.9/site-packages (from tensorflow) (1.6.3)\n",
      "Requirement already satisfied: flatbuffers>=23.1.21 in /home/john/anaconda3/lib/python3.9/site-packages (from tensorflow) (23.5.26)\n",
      "Requirement already satisfied: gast<=0.4.0,>=0.2.1 in /home/john/anaconda3/lib/python3.9/site-packages (from tensorflow) (0.4.0)\n",
      "Requirement already satisfied: google-pasta>=0.1.1 in /home/john/anaconda3/lib/python3.9/site-packages (from tensorflow) (0.2.0)\n",
      "Requirement already satisfied: grpcio<2.0,>=1.24.3 in /home/john/anaconda3/lib/python3.9/site-packages (from tensorflow) (1.58.0)\n",
      "Requirement already satisfied: h5py>=2.9.0 in /home/john/anaconda3/lib/python3.9/site-packages (from tensorflow) (3.6.0)\n",
      "Requirement already satisfied: keras<2.14,>=2.13.1 in /home/john/anaconda3/lib/python3.9/site-packages (from tensorflow) (2.13.1)\n",
      "Requirement already satisfied: libclang>=13.0.0 in /home/john/anaconda3/lib/python3.9/site-packages (from tensorflow) (16.0.6)\n",
      "Requirement already satisfied: numpy<=1.24.3,>=1.22 in /home/john/anaconda3/lib/python3.9/site-packages (from tensorflow) (1.22.4)\n",
      "Requirement already satisfied: opt-einsum>=2.3.2 in /home/john/anaconda3/lib/python3.9/site-packages (from tensorflow) (3.3.0)\n",
      "Requirement already satisfied: packaging in /home/john/anaconda3/lib/python3.9/site-packages (from tensorflow) (21.3)\n",
      "Requirement already satisfied: protobuf!=4.21.0,!=4.21.1,!=4.21.2,!=4.21.3,!=4.21.4,!=4.21.5,<5.0.0dev,>=3.20.3 in /home/john/anaconda3/lib/python3.9/site-packages (from tensorflow) (4.24.3)\n",
      "Requirement already satisfied: setuptools in /home/john/anaconda3/lib/python3.9/site-packages (from tensorflow) (61.2.0)\n",
      "Requirement already satisfied: six>=1.12.0 in /home/john/anaconda3/lib/python3.9/site-packages (from tensorflow) (1.16.0)\n",
      "Requirement already satisfied: tensorboard<2.14,>=2.13 in /home/john/anaconda3/lib/python3.9/site-packages (from tensorflow) (2.13.0)\n",
      "Requirement already satisfied: tensorflow-estimator<2.14,>=2.13.0 in /home/john/anaconda3/lib/python3.9/site-packages (from tensorflow) (2.13.0)\n",
      "Requirement already satisfied: termcolor>=1.1.0 in /home/john/anaconda3/lib/python3.9/site-packages (from tensorflow) (2.3.0)\n",
      "Requirement already satisfied: typing-extensions<4.6.0,>=3.6.6 in /home/john/anaconda3/lib/python3.9/site-packages (from tensorflow) (4.1.1)\n",
      "Requirement already satisfied: wrapt>=1.11.0 in /home/john/anaconda3/lib/python3.9/site-packages (from tensorflow) (1.12.1)\n",
      "Requirement already satisfied: tensorflow-io-gcs-filesystem>=0.23.1 in /home/john/anaconda3/lib/python3.9/site-packages (from tensorflow) (0.34.0)\n",
      "Requirement already satisfied: wheel<1.0,>=0.23.0 in /home/john/anaconda3/lib/python3.9/site-packages (from astunparse>=1.6.0->tensorflow) (0.37.1)\n",
      "Requirement already satisfied: google-auth<3,>=1.6.3 in /home/john/anaconda3/lib/python3.9/site-packages (from tensorboard<2.14,>=2.13->tensorflow) (2.23.0)\n",
      "Requirement already satisfied: google-auth-oauthlib<1.1,>=0.5 in /home/john/anaconda3/lib/python3.9/site-packages (from tensorboard<2.14,>=2.13->tensorflow) (1.0.0)\n",
      "Requirement already satisfied: markdown>=2.6.8 in /home/john/anaconda3/lib/python3.9/site-packages (from tensorboard<2.14,>=2.13->tensorflow) (3.3.4)\n",
      "Requirement already satisfied: requests<3,>=2.21.0 in /home/john/anaconda3/lib/python3.9/site-packages (from tensorboard<2.14,>=2.13->tensorflow) (2.27.1)\n",
      "Requirement already satisfied: tensorboard-data-server<0.8.0,>=0.7.0 in /home/john/anaconda3/lib/python3.9/site-packages (from tensorboard<2.14,>=2.13->tensorflow) (0.7.1)\n",
      "Requirement already satisfied: werkzeug>=1.0.1 in /home/john/anaconda3/lib/python3.9/site-packages (from tensorboard<2.14,>=2.13->tensorflow) (2.0.3)\n",
      "Requirement already satisfied: pyparsing!=3.0.5,>=2.0.2 in /home/john/anaconda3/lib/python3.9/site-packages (from packaging->tensorflow) (3.0.4)\n",
      "Requirement already satisfied: cachetools<6.0,>=2.0.0 in /home/john/anaconda3/lib/python3.9/site-packages (from google-auth<3,>=1.6.3->tensorboard<2.14,>=2.13->tensorflow) (4.2.2)\n",
      "Requirement already satisfied: pyasn1-modules>=0.2.1 in /home/john/anaconda3/lib/python3.9/site-packages (from google-auth<3,>=1.6.3->tensorboard<2.14,>=2.13->tensorflow) (0.2.8)\n",
      "Requirement already satisfied: rsa<5,>=3.1.4 in /home/john/anaconda3/lib/python3.9/site-packages (from google-auth<3,>=1.6.3->tensorboard<2.14,>=2.13->tensorflow) (4.7.2)\n",
      "Requirement already satisfied: urllib3<2.0 in /home/john/anaconda3/lib/python3.9/site-packages (from google-auth<3,>=1.6.3->tensorboard<2.14,>=2.13->tensorflow) (1.26.9)\n",
      "Requirement already satisfied: requests-oauthlib>=0.7.0 in /home/john/anaconda3/lib/python3.9/site-packages (from google-auth-oauthlib<1.1,>=0.5->tensorboard<2.14,>=2.13->tensorflow) (1.3.1)\n",
      "Requirement already satisfied: certifi>=2017.4.17 in /home/john/anaconda3/lib/python3.9/site-packages (from requests<3,>=2.21.0->tensorboard<2.14,>=2.13->tensorflow) (2021.10.8)\n",
      "Requirement already satisfied: charset-normalizer~=2.0.0 in /home/john/anaconda3/lib/python3.9/site-packages (from requests<3,>=2.21.0->tensorboard<2.14,>=2.13->tensorflow) (2.0.4)\n",
      "Requirement already satisfied: idna<4,>=2.5 in /home/john/anaconda3/lib/python3.9/site-packages (from requests<3,>=2.21.0->tensorboard<2.14,>=2.13->tensorflow) (3.3)\n",
      "Requirement already satisfied: pyasn1<0.5.0,>=0.4.6 in /home/john/anaconda3/lib/python3.9/site-packages (from pyasn1-modules>=0.2.1->google-auth<3,>=1.6.3->tensorboard<2.14,>=2.13->tensorflow) (0.4.8)\n",
      "Requirement already satisfied: oauthlib>=3.0.0 in /home/john/anaconda3/lib/python3.9/site-packages (from requests-oauthlib>=0.7.0->google-auth-oauthlib<1.1,>=0.5->tensorboard<2.14,>=2.13->tensorflow) (3.2.2)\n"
     ]
    }
   ],
   "source": [
    "# inicialmente utilizamos los datos de keras, según digitalocean:\n",
    "# https://www.digitalocean.com/community/tutorials/mnist-dataset-in-python\n",
    "# También se pueden descargar de:\n",
    "# https://www.kaggle.com/datasets/hojjatk/mnist-dataset\n",
    "!(pip install keras)\n",
    "!(pip install scikit-learn)\n",
    "!(pip install tensorflow)\n",
    "import numpy as np\n",
    "from keras.datasets import mnist\n",
    "from sklearn.model_selection import train_test_split\n",
    "from sklearn.feature_extraction.text import CountVectorizer\n",
    "from sklearn.naive_bayes import GaussianNB\n",
    "from sklearn.metrics import accuracy_score, classification_report, confusion_matrix\n",
    "import matplotlib.pyplot as plt\n",
    "import pandas as pd"
   ]
  },
  {
   "cell_type": "markdown",
   "id": "2c5880da",
   "metadata": {},
   "source": [
    "### Cargamos los datos\n",
    "\n",
    "Training: x_train (imágenes), y_train (características)\n",
    "Test: x_test (imágenes), y_test (características)\n",
    "\n",
    "Test:\n",
    "Convertimos a numpy para poder llamar los elementos más fácilmente"
   ]
  },
  {
   "cell_type": "code",
   "execution_count": 2,
   "id": "5737b6a5",
   "metadata": {},
   "outputs": [
    {
     "name": "stdout",
     "output_type": "stream",
     "text": [
      "X_train:  (60000, 28, 28)\n",
      "Y_train:  (60000,)\n",
      "X_test:   (10000, 28, 28)\n",
      "Y_test:   (10000,)\n"
     ]
    }
   ],
   "source": [
    "(x_train, y_train), (x_test, y_test) = mnist.load_data()\n",
    "x_train=np.array(x_train) \n",
    "y_train=np.array(y_train)\n",
    "x_test=np.array(x_test)\n",
    "y_test=np.array(y_test)\n",
    "print('X_train: ',x_train.shape) # Indices: (Imagen i, fila j, columna k)\n",
    "print('Y_train: ',y_train.shape)\n",
    "print('X_test:  ',x_test.shape)\n",
    "print('Y_test:  ',y_test.shape)"
   ]
  },
  {
   "cell_type": "markdown",
   "id": "f01e9cd0",
   "metadata": {},
   "source": [
    "Ejemplo de una imágen y su valor correspondiente:"
   ]
  },
  {
   "cell_type": "code",
   "execution_count": 20,
   "id": "6c82eba1",
   "metadata": {},
   "outputs": [
    {
     "name": "stdout",
     "output_type": "stream",
     "text": [
      "Etiqueta: 5\n"
     ]
    },
    {
     "data": {
      "text/plain": [
       "<matplotlib.image.AxesImage at 0x7fa3375f3520>"
      ]
     },
     "execution_count": 20,
     "metadata": {},
     "output_type": "execute_result"
    },
    {
     "data": {
      "image/png": "[encoded data removed]",
      "text/plain": [
       "<Figure size 432x288 with 1 Axes>"
      ]
     },
     "metadata": {
      "needs_background": "light"
     },
     "output_type": "display_data"
    }
   ],
   "source": [
    "print(\"Etiqueta:\",y_train[0])\n",
    "plt.imshow(x_train[0])"
   ]
  },
  {
   "cell_type": "markdown",
   "id": "a364372f",
   "metadata": {},
   "source": [
    "## 2) Implementación del Modelo"
   ]
  },
  {
   "cell_type": "markdown",
   "id": "4c30726b",
   "metadata": {},
   "source": [
    "Inicialmente intentamos con las funciones previamente implementadas de scikitlearn. Sin embargo, estas funciones reciben de entrada listas bidimensionales (nx1) por lo que intentamos aplanar las imágenes. Sin embargo veremos que los resultados no fueron los mejores"
   ]
  },
  {
   "cell_type": "code",
   "execution_count": 5,
   "id": "77de9ec4",
   "metadata": {},
   "outputs": [],
   "source": [
    "dim=x_train.shape # guardamos las dimensiones (elementos, imagen(fila,col))\n",
    "x_train_p=x_train.reshape(dim[0],dim[1]*dim[2]) # aplanamos las imágenes\n",
    "dim=x_test.shape\n",
    "x_test_p=x_test.reshape(dim[0],dim[1]*dim[2])  # aplanamos las imágenes"
   ]
  },
  {
   "cell_type": "code",
   "execution_count": 23,
   "id": "d88777ce",
   "metadata": {
    "scrolled": true
   },
   "outputs": [],
   "source": [
    "nb_classifier = GaussianNB() #asumimos una distribución normal de los pixeles\n",
    "nb_classifier.fit(x_train_p, y_train) # ajuste del modelo\n",
    "y_pred = nb_classifier.predict(x_test_p) # valores predichos"
   ]
  },
  {
   "cell_type": "markdown",
   "id": "6976631d",
   "metadata": {},
   "source": [
    "Ejemplo de uno de los valores predichos"
   ]
  },
  {
   "cell_type": "code",
   "execution_count": 24,
   "id": "a98d3953",
   "metadata": {},
   "outputs": [
    {
     "name": "stdout",
     "output_type": "stream",
     "text": [
      "Valor predicho:  9\n"
     ]
    },
    {
     "data": {
      "text/plain": [
       "<matplotlib.image.AxesImage at 0x7fa33753b6a0>"
      ]
     },
     "execution_count": 24,
     "metadata": {},
     "output_type": "execute_result"
    },
    {
     "data": {
      "image/png": "[encoded data removed]",
      "text/plain": [
       "<Figure size 432x288 with 1 Axes>"
      ]
     },
     "metadata": {
      "needs_background": "light"
     },
     "output_type": "display_data"
    }
   ],
   "source": [
    "print(\"Valor predicho: \",y_pred[0])\n",
    "plt.imshow(x_test[0])"
   ]
  },
  {
   "cell_type": "code",
   "execution_count": 25,
   "id": "591d6a85",
   "metadata": {},
   "outputs": [
    {
     "name": "stdout",
     "output_type": "stream",
     "text": [
      "Puntos etiquetados erróneamente de 10000 puntos : 4442\n",
      "Exactitud:  0.5558\n"
     ]
    }
   ],
   "source": [
    "accuracy = accuracy_score(y_test, y_pred)\n",
    "print(\"Puntos etiquetados erróneamente de %d puntos : %d\"\n",
    "      % (x_test_p.shape[0], (y_test != y_pred).sum()))\n",
    "print(\"Exactitud: \",accuracy)"
   ]
  },
  {
   "cell_type": "markdown",
   "id": "2f0e5600",
   "metadata": {},
   "source": [
    "Vemos que el modelo tiene una exactitud del 55.58%, que no será tan buena como la que obtendremos al realizarlo manualmente."
   ]
  },
  {
   "cell_type": "markdown",
   "id": "1064b1be",
   "metadata": {},
   "source": [
    "### Naive Bayes Manual\n",
    "\n",
    "Asumimos que en cada pixel la versimilitud sigue una distribución normal. Calculamos la probabilidad de que cada píxel en cada imagen de testeo corresponda al píxel promedio de un número dado (Función de verosimilitud o likelihood). Luego hallamos el dígito correspondiente a la máxima probabilidad.\n",
    "\n",
    "En otras palabras, la verosimilitud de que la imagen $X_i$ corresponda con la característica/etiqueta $C_l$ se debe comparar pixel a pixel (pixeles independientes entre sí), de modo que viene dada por:\n",
    "\n",
    "$$P(X_i| C_l)= \\prod_{i=1}^{28\\times28}\\frac{1}{\\sqrt{2\\pi\\sigma_i^2}} \\exp{\\left [ -\\frac{(X_i-\\mu_i)^2}{2\\sigma_i^2}\\right ]} $$\n",
    "\n",
    "y la probabilidad de que sea $C_l$ es:\n",
    "$$ P(C_l)=P(X_i| C_l)P(X_i)$$\n",
    "\n",
    "Aplicamos log y sacamos el argumento (la inversa) para hallar $C_l$ que es la característica que queremos predecir de $X_i$:\n",
    "\n",
    "$$ C_l=argmax(\\log P(X_i| C_l)+\\log P(X_i))$$\n",
    "Vemos que $C_l$ aumenta con $P(X_i| C_l)$ y $P(X_i)$ por lo tanto solo hallaremos en el programa $\\log P(X_i| C_l)$."
   ]
  },
  {
   "cell_type": "code",
   "execution_count": 43,
   "id": "59da1a38",
   "metadata": {},
   "outputs": [
    {
     "name": "stdout",
     "output_type": "stream",
     "text": [
      "Promedios\n"
     ]
    },
    {
     "data": {
      "image/png": "[encoded data removed]",
      "text/plain": [
       "<Figure size 432x288 with 10 Axes>"
      ]
     },
     "metadata": {
      "needs_background": "light"
     },
     "output_type": "display_data"
    }
   ],
   "source": [
    "########################################\n",
    "#Hallamos los parámetros mu y sigma para cada imagen a partir de los datos de entrenamiento\n",
    "def estadisticos(x,y):\n",
    "    dim=x.shape\n",
    "    nums=np.unique(y)\n",
    "    av=np.zeros((len(nums),dim[1],dim[2]))\n",
    "    sigma=np.zeros((len(nums),dim[1],dim[2]))\n",
    "    for i in np.unique(y):\n",
    "    #     s+=len(x_train[y_train==i])\n",
    "        av[i]=np.mean(x[y==i], axis=0) # Números promedio del training (por pixel)\n",
    "        sigma[i]=np.std(x[y==i], axis=0) # desviaciones del training(por pixel) \n",
    "    return av, sigma\n",
    "av,sigma=estadisticos(x_train,y_train)\n",
    "print(\"Promedios\")\n",
    "fig, axs = plt.subplots(2, 5)\n",
    "# Plot something in each subplot\n",
    "for i, ax in enumerate(axs.flat):\n",
    "    ax.imshow(av[i], label=f'Plot {i+1}')\n",
    "    ax.set_title(f'Número {i}')\n",
    "\n",
    "plt.show()\n"
   ]
  },
  {
   "cell_type": "code",
   "execution_count": 47,
   "id": "d064ef80",
   "metadata": {},
   "outputs": [],
   "source": [
    "##########################################\n",
    "# Método naive bayes para encontrar las características\n",
    "def naive_bayes_mnist(x_train,y_train,x_test):\n",
    "    av,sigma=estadisticos(x_train,y_train)\n",
    "    log_p=np.zeros((len(x_test),len(nums))) # diez probabilidades por cada valor de testeo (una por cada número)\n",
    "    y_pred=np.zeros(len(x_test))\n",
    "    # la resta de la gaussiana se hace con el x_test porque son los valores que queremos predecir\n",
    "    # mientras que las medias y las sigmas las hacemos con los datos de entrenamiento\n",
    "    for i in range(len(x_test)):\n",
    "        for l in nums:\n",
    "            s_off=sigma[l]+10\n",
    "            A=np.sqrt(2*np.pi*s_off**2)\n",
    "            log_p[i,l]=np.sum(np.log(np.exp(-(x_test[i]-av[l])**2/(2*s_off**2))/A))\n",
    "        y_pred[i]=np.argmax(log_p[i])\n",
    "    return y_pred"
   ]
  },
  {
   "cell_type": "code",
   "execution_count": 48,
   "id": "57937a84",
   "metadata": {},
   "outputs": [],
   "source": [
    "y_pred=naive_bayes_mnist(x_train,y_train,x_test)"
   ]
  },
  {
   "cell_type": "code",
   "execution_count": 49,
   "id": "9a05b83a",
   "metadata": {},
   "outputs": [
    {
     "data": {
      "text/plain": [
       "array([7., 2., 1., ..., 9., 8., 6.])"
      ]
     },
     "execution_count": 49,
     "metadata": {},
     "output_type": "execute_result"
    }
   ],
   "source": [
    "y_pred"
   ]
  },
  {
   "cell_type": "markdown",
   "id": "c0dbbfee",
   "metadata": {},
   "source": [
    "## 3) Desempeño de Generalización del Problema de Clasificación\n",
    "problem generalization performance"
   ]
  },
  {
   "cell_type": "code",
   "execution_count": 13,
   "id": "a43637cd",
   "metadata": {
    "scrolled": true
   },
   "outputs": [
    {
     "name": "stdout",
     "output_type": "stream",
     "text": [
      "Puntos etiquetados erróneamente de 10000 puntos : 2619\n"
     ]
    }
   ],
   "source": [
    "print(\"Puntos etiquetados erróneamente de %d puntos : %d\"\n",
    "      % (x_test_p.shape[0], (y_test != y_pred).sum()))"
   ]
  },
  {
   "cell_type": "markdown",
   "id": "6313701f",
   "metadata": {},
   "source": [
    "Resultados de Principales Métricas de Clasificación"
   ]
  },
  {
   "cell_type": "code",
   "execution_count": 14,
   "id": "d115f5e4",
   "metadata": {
    "scrolled": true
   },
   "outputs": [
    {
     "name": "stdout",
     "output_type": "stream",
     "text": [
      "Accuracy: 0.7381\n"
     ]
    },
    {
     "data": {
      "text/html": [
       "<div>\n",
       "<style scoped>\n",
       "    .dataframe tbody tr th:only-of-type {\n",
       "        vertical-align: middle;\n",
       "    }\n",
       "\n",
       "    .dataframe tbody tr th {\n",
       "        vertical-align: top;\n",
       "    }\n",
       "\n",
       "    .dataframe thead th {\n",
       "        text-align: right;\n",
       "    }\n",
       "</style>\n",
       "<table border=\"1\" class=\"dataframe\">\n",
       "  <thead>\n",
       "    <tr style=\"text-align: right;\">\n",
       "      <th></th>\n",
       "      <th>precision</th>\n",
       "      <th>recall</th>\n",
       "      <th>f1-score</th>\n",
       "      <th>support</th>\n",
       "    </tr>\n",
       "  </thead>\n",
       "  <tbody>\n",
       "    <tr>\n",
       "      <th>0</th>\n",
       "      <td>0.905528</td>\n",
       "      <td>0.919388</td>\n",
       "      <td>0.912405</td>\n",
       "      <td>980.0000</td>\n",
       "    </tr>\n",
       "    <tr>\n",
       "      <th>1</th>\n",
       "      <td>0.762958</td>\n",
       "      <td>0.972687</td>\n",
       "      <td>0.855151</td>\n",
       "      <td>1135.0000</td>\n",
       "    </tr>\n",
       "    <tr>\n",
       "      <th>2</th>\n",
       "      <td>0.923430</td>\n",
       "      <td>0.584302</td>\n",
       "      <td>0.715727</td>\n",
       "      <td>1032.0000</td>\n",
       "    </tr>\n",
       "    <tr>\n",
       "      <th>3</th>\n",
       "      <td>0.797632</td>\n",
       "      <td>0.733663</td>\n",
       "      <td>0.764312</td>\n",
       "      <td>1010.0000</td>\n",
       "    </tr>\n",
       "    <tr>\n",
       "      <th>4</th>\n",
       "      <td>0.862888</td>\n",
       "      <td>0.480652</td>\n",
       "      <td>0.617397</td>\n",
       "      <td>982.0000</td>\n",
       "    </tr>\n",
       "    <tr>\n",
       "      <th>5</th>\n",
       "      <td>0.876607</td>\n",
       "      <td>0.382287</td>\n",
       "      <td>0.532397</td>\n",
       "      <td>892.0000</td>\n",
       "    </tr>\n",
       "    <tr>\n",
       "      <th>6</th>\n",
       "      <td>0.773124</td>\n",
       "      <td>0.924843</td>\n",
       "      <td>0.842205</td>\n",
       "      <td>958.0000</td>\n",
       "    </tr>\n",
       "    <tr>\n",
       "      <th>7</th>\n",
       "      <td>0.931701</td>\n",
       "      <td>0.703307</td>\n",
       "      <td>0.801552</td>\n",
       "      <td>1028.0000</td>\n",
       "    </tr>\n",
       "    <tr>\n",
       "      <th>8</th>\n",
       "      <td>0.531056</td>\n",
       "      <td>0.702259</td>\n",
       "      <td>0.604775</td>\n",
       "      <td>974.0000</td>\n",
       "    </tr>\n",
       "    <tr>\n",
       "      <th>9</th>\n",
       "      <td>0.506011</td>\n",
       "      <td>0.917740</td>\n",
       "      <td>0.652342</td>\n",
       "      <td>1009.0000</td>\n",
       "    </tr>\n",
       "    <tr>\n",
       "      <th>accuracy</th>\n",
       "      <td>0.738100</td>\n",
       "      <td>0.738100</td>\n",
       "      <td>0.738100</td>\n",
       "      <td>0.7381</td>\n",
       "    </tr>\n",
       "    <tr>\n",
       "      <th>macro avg</th>\n",
       "      <td>0.787093</td>\n",
       "      <td>0.732113</td>\n",
       "      <td>0.729826</td>\n",
       "      <td>10000.0000</td>\n",
       "    </tr>\n",
       "    <tr>\n",
       "      <th>weighted avg</th>\n",
       "      <td>0.786751</td>\n",
       "      <td>0.738100</td>\n",
       "      <td>0.733461</td>\n",
       "      <td>10000.0000</td>\n",
       "    </tr>\n",
       "  </tbody>\n",
       "</table>\n",
       "</div>"
      ],
      "text/plain": [
       "              precision    recall  f1-score     support\n",
       "0              0.905528  0.919388  0.912405    980.0000\n",
       "1              0.762958  0.972687  0.855151   1135.0000\n",
       "2              0.923430  0.584302  0.715727   1032.0000\n",
       "3              0.797632  0.733663  0.764312   1010.0000\n",
       "4              0.862888  0.480652  0.617397    982.0000\n",
       "5              0.876607  0.382287  0.532397    892.0000\n",
       "6              0.773124  0.924843  0.842205    958.0000\n",
       "7              0.931701  0.703307  0.801552   1028.0000\n",
       "8              0.531056  0.702259  0.604775    974.0000\n",
       "9              0.506011  0.917740  0.652342   1009.0000\n",
       "accuracy       0.738100  0.738100  0.738100      0.7381\n",
       "macro avg      0.787093  0.732113  0.729826  10000.0000\n",
       "weighted avg   0.786751  0.738100  0.733461  10000.0000"
      ]
     },
     "execution_count": 14,
     "metadata": {},
     "output_type": "execute_result"
    }
   ],
   "source": [
    "# Evaluate the model\n",
    "accuracy = accuracy_score(y_test, y_pred)\n",
    "report = pd.DataFrame.from_dict(classification_report(y_test, y_pred,output_dict=True)).transpose()\n",
    "print(f\"Accuracy: {accuracy}\")\n",
    "report"
   ]
  },
  {
   "cell_type": "markdown",
   "id": "801cf8e2",
   "metadata": {},
   "source": [
    "Matriz de Confusión"
   ]
  },
  {
   "cell_type": "code",
   "execution_count": 26,
   "id": "473febb5",
   "metadata": {},
   "outputs": [
    {
     "data": {
      "text/plain": [
       "<matplotlib.colorbar.Colorbar at 0x7fa3374cf730>"
      ]
     },
     "execution_count": 26,
     "metadata": {},
     "output_type": "execute_result"
    },
    {
     "data": {
      "image/png": "[encoded data removed]",
      "text/plain": [
       "<Figure size 432x288 with 2 Axes>"
      ]
     },
     "metadata": {
      "needs_background": "light"
     },
     "output_type": "display_data"
    }
   ],
   "source": [
    "plt.imshow(confusion_matrix(y_test,y_pred),cmap='Reds')\n",
    "plt.title(\"Número de datos\")\n",
    "plt.colorbar()"
   ]
  },
  {
   "cell_type": "code",
   "execution_count": null,
   "id": "c37fcf82",
   "metadata": {},
   "outputs": [],
   "source": []
  }
 ],
 "metadata": {
  "kernelspec": {
   "display_name": "Python 3 (ipykernel)",
   "language": "python",
   "name": "python3"
  },
  "language_info": {
   "codemirror_mode": {
    "name": "ipython",
    "version": 3
   },
   "file_extension": ".py",
   "mimetype": "text/x-python",
   "name": "python",
   "nbconvert_exporter": "python",
   "pygments_lexer": "ipython3",
   "version": "3.9.12"
  }
 },
 "nbformat": 4,
 "nbformat_minor": 5
}
