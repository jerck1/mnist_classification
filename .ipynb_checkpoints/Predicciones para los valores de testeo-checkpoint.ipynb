{
 "cells": [
  {
   "cell_type": "markdown",
   "id": "7d2b127a",
   "metadata": {},
   "source": [
    "## 4) Aplicación del modelo a nuevos datos"
   ]
  },
  {
   "cell_type": "code",
   "execution_count": 1,
   "id": "948c60b3",
   "metadata": {},
   "outputs": [],
   "source": [
    "from ipywidgets import widgets\n",
    "import joblib as jb\n",
    "import numpy as np\n",
    "import matplotlib.pyplot as plt"
   ]
  },
  {
   "cell_type": "markdown",
   "id": "d7ec418b",
   "metadata": {},
   "source": [
    "Importamos el modelo"
   ]
  },
  {
   "cell_type": "code",
   "execution_count": 2,
   "id": "17093f49",
   "metadata": {},
   "outputs": [],
   "source": [
    "model=jb.load(\"./model\")\n",
    "x_train=jb.load(\"./x_train_copy\")\n",
    "y_train=jb.load(\"./y_train_copy\")"
   ]
  },
  {
   "cell_type": "code",
   "execution_count": 3,
   "id": "6644c8d6",
   "metadata": {},
   "outputs": [],
   "source": [
    "image=dict()\n",
    "image[0] = np.zeros((28, 28))\n",
    "image[0][::2, ::2] = 1\n",
    "image[0][1::2, 1::2] = 1\n",
    "# matrix with a one at its center\n",
    "image[1] = np.zeros((28, 28))\n",
    "image[1][:, 14] = 1  # Set the central column to 1\n"
   ]
  },
  {
   "cell_type": "code",
   "execution_count": null,
   "id": "05033e6d",
   "metadata": {},
   "outputs": [],
   "source": [
    "w=widgets.IntSlider(min=0,max=1)\n",
    "display(w)\n",
    "y_pred,prob=model(x_train,y_train,checkerboard)\n",
    "plt.imshow(image[w])"
   ]
  },
  {
   "cell_type": "code",
   "execution_count": null,
   "id": "7ad7ba10",
   "metadata": {},
   "outputs": [],
   "source": []
  },
  {
   "cell_type": "code",
   "execution_count": null,
   "id": "695ae1db",
   "metadata": {},
   "outputs": [],
   "source": [
    "y_pred"
   ]
  },
  {
   "cell_type": "code",
   "execution_count": null,
   "id": "06b5b0b4",
   "metadata": {},
   "outputs": [],
   "source": []
  }
 ],
 "metadata": {
  "kernelspec": {
   "display_name": "Python 3 (ipykernel)",
   "language": "python",
   "name": "python3"
  },
  "language_info": {
   "codemirror_mode": {
    "name": "ipython",
    "version": 3
   },
   "file_extension": ".py",
   "mimetype": "text/x-python",
   "name": "python",
   "nbconvert_exporter": "python",
   "pygments_lexer": "ipython3",
   "version": "3.9.12"
  }
 },
 "nbformat": 4,
 "nbformat_minor": 5
}
