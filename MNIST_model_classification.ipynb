{
 "cells": [
  {
   "cell_type": "markdown",
   "id": "a364372f",
   "metadata": {},
   "source": [
    "## 2) Implementación del Modelo"
   ]
  },
  {
   "cell_type": "markdown",
   "id": "94be086b",
   "metadata": {},
   "source": [
    "Ingreso de Módulos:"
   ]
  },
  {
   "cell_type": "code",
   "execution_count": 1,
   "id": "28837b14",
   "metadata": {
    "scrolled": true
   },
   "outputs": [
    {
     "name": "stdout",
     "output_type": "stream",
     "text": [
      "Requirement already satisfied: scikit-learn in /home/john/anaconda3/lib/python3.9/site-packages (1.0.2)\n",
      "Requirement already satisfied: numpy>=1.14.6 in /home/john/anaconda3/lib/python3.9/site-packages (from scikit-learn) (1.22.4)\n",
      "Requirement already satisfied: scipy>=1.1.0 in /home/john/anaconda3/lib/python3.9/site-packages (from scikit-learn) (1.7.3)\n",
      "Requirement already satisfied: joblib>=0.11 in /home/john/anaconda3/lib/python3.9/site-packages (from scikit-learn) (1.1.0)\n",
      "Requirement already satisfied: threadpoolctl>=2.0.0 in /home/john/anaconda3/lib/python3.9/site-packages (from scikit-learn) (2.2.0)\n",
      "Requirement already satisfied: tensorflow in /home/john/anaconda3/lib/python3.9/site-packages (2.13.0)\n",
      "Requirement already satisfied: absl-py>=1.0.0 in /home/john/anaconda3/lib/python3.9/site-packages (from tensorflow) (2.0.0)\n",
      "Requirement already satisfied: astunparse>=1.6.0 in /home/john/anaconda3/lib/python3.9/site-packages (from tensorflow) (1.6.3)\n",
      "Requirement already satisfied: flatbuffers>=23.1.21 in /home/john/anaconda3/lib/python3.9/site-packages (from tensorflow) (23.5.26)\n",
      "Requirement already satisfied: gast<=0.4.0,>=0.2.1 in /home/john/anaconda3/lib/python3.9/site-packages (from tensorflow) (0.4.0)\n",
      "Requirement already satisfied: google-pasta>=0.1.1 in /home/john/anaconda3/lib/python3.9/site-packages (from tensorflow) (0.2.0)\n",
      "Requirement already satisfied: grpcio<2.0,>=1.24.3 in /home/john/anaconda3/lib/python3.9/site-packages (from tensorflow) (1.58.0)\n",
      "Requirement already satisfied: h5py>=2.9.0 in /home/john/anaconda3/lib/python3.9/site-packages (from tensorflow) (3.6.0)\n",
      "Requirement already satisfied: keras<2.14,>=2.13.1 in /home/john/anaconda3/lib/python3.9/site-packages (from tensorflow) (2.13.1)\n",
      "Requirement already satisfied: libclang>=13.0.0 in /home/john/anaconda3/lib/python3.9/site-packages (from tensorflow) (16.0.6)\n",
      "Requirement already satisfied: numpy<=1.24.3,>=1.22 in /home/john/anaconda3/lib/python3.9/site-packages (from tensorflow) (1.22.4)\n",
      "Requirement already satisfied: opt-einsum>=2.3.2 in /home/john/anaconda3/lib/python3.9/site-packages (from tensorflow) (3.3.0)\n",
      "Requirement already satisfied: packaging in /home/john/anaconda3/lib/python3.9/site-packages (from tensorflow) (21.3)\n",
      "Requirement already satisfied: protobuf!=4.21.0,!=4.21.1,!=4.21.2,!=4.21.3,!=4.21.4,!=4.21.5,<5.0.0dev,>=3.20.3 in /home/john/anaconda3/lib/python3.9/site-packages (from tensorflow) (4.24.3)\n",
      "Requirement already satisfied: setuptools in /home/john/anaconda3/lib/python3.9/site-packages (from tensorflow) (61.2.0)\n",
      "Requirement already satisfied: six>=1.12.0 in /home/john/anaconda3/lib/python3.9/site-packages (from tensorflow) (1.16.0)\n",
      "Requirement already satisfied: tensorboard<2.14,>=2.13 in /home/john/anaconda3/lib/python3.9/site-packages (from tensorflow) (2.13.0)\n",
      "Requirement already satisfied: tensorflow-estimator<2.14,>=2.13.0 in /home/john/anaconda3/lib/python3.9/site-packages (from tensorflow) (2.13.0)\n",
      "Requirement already satisfied: termcolor>=1.1.0 in /home/john/anaconda3/lib/python3.9/site-packages (from tensorflow) (2.3.0)\n",
      "Requirement already satisfied: typing-extensions<4.6.0,>=3.6.6 in /home/john/anaconda3/lib/python3.9/site-packages (from tensorflow) (4.1.1)\n",
      "Requirement already satisfied: wrapt>=1.11.0 in /home/john/anaconda3/lib/python3.9/site-packages (from tensorflow) (1.12.1)\n",
      "Requirement already satisfied: tensorflow-io-gcs-filesystem>=0.23.1 in /home/john/anaconda3/lib/python3.9/site-packages (from tensorflow) (0.34.0)\n",
      "Requirement already satisfied: wheel<1.0,>=0.23.0 in /home/john/anaconda3/lib/python3.9/site-packages (from astunparse>=1.6.0->tensorflow) (0.37.1)\n",
      "Requirement already satisfied: google-auth<3,>=1.6.3 in /home/john/anaconda3/lib/python3.9/site-packages (from tensorboard<2.14,>=2.13->tensorflow) (2.23.0)\n",
      "Requirement already satisfied: google-auth-oauthlib<1.1,>=0.5 in /home/john/anaconda3/lib/python3.9/site-packages (from tensorboard<2.14,>=2.13->tensorflow) (1.0.0)\n",
      "Requirement already satisfied: markdown>=2.6.8 in /home/john/anaconda3/lib/python3.9/site-packages (from tensorboard<2.14,>=2.13->tensorflow) (3.3.4)\n",
      "Requirement already satisfied: requests<3,>=2.21.0 in /home/john/anaconda3/lib/python3.9/site-packages (from tensorboard<2.14,>=2.13->tensorflow) (2.27.1)\n",
      "Requirement already satisfied: tensorboard-data-server<0.8.0,>=0.7.0 in /home/john/anaconda3/lib/python3.9/site-packages (from tensorboard<2.14,>=2.13->tensorflow) (0.7.1)\n",
      "Requirement already satisfied: werkzeug>=1.0.1 in /home/john/anaconda3/lib/python3.9/site-packages (from tensorboard<2.14,>=2.13->tensorflow) (2.0.3)\n",
      "Requirement already satisfied: pyparsing!=3.0.5,>=2.0.2 in /home/john/anaconda3/lib/python3.9/site-packages (from packaging->tensorflow) (3.0.4)\n",
      "Requirement already satisfied: cachetools<6.0,>=2.0.0 in /home/john/anaconda3/lib/python3.9/site-packages (from google-auth<3,>=1.6.3->tensorboard<2.14,>=2.13->tensorflow) (4.2.2)\n",
      "Requirement already satisfied: pyasn1-modules>=0.2.1 in /home/john/anaconda3/lib/python3.9/site-packages (from google-auth<3,>=1.6.3->tensorboard<2.14,>=2.13->tensorflow) (0.2.8)\n",
      "Requirement already satisfied: rsa<5,>=3.1.4 in /home/john/anaconda3/lib/python3.9/site-packages (from google-auth<3,>=1.6.3->tensorboard<2.14,>=2.13->tensorflow) (4.7.2)\n",
      "Requirement already satisfied: urllib3<2.0 in /home/john/anaconda3/lib/python3.9/site-packages (from google-auth<3,>=1.6.3->tensorboard<2.14,>=2.13->tensorflow) (1.26.9)\n",
      "Requirement already satisfied: requests-oauthlib>=0.7.0 in /home/john/anaconda3/lib/python3.9/site-packages (from google-auth-oauthlib<1.1,>=0.5->tensorboard<2.14,>=2.13->tensorflow) (1.3.1)\n",
      "Requirement already satisfied: certifi>=2017.4.17 in /home/john/anaconda3/lib/python3.9/site-packages (from requests<3,>=2.21.0->tensorboard<2.14,>=2.13->tensorflow) (2021.10.8)\n",
      "Requirement already satisfied: charset-normalizer~=2.0.0 in /home/john/anaconda3/lib/python3.9/site-packages (from requests<3,>=2.21.0->tensorboard<2.14,>=2.13->tensorflow) (2.0.4)\n",
      "Requirement already satisfied: idna<4,>=2.5 in /home/john/anaconda3/lib/python3.9/site-packages (from requests<3,>=2.21.0->tensorboard<2.14,>=2.13->tensorflow) (3.3)\n",
      "Requirement already satisfied: pyasn1<0.5.0,>=0.4.6 in /home/john/anaconda3/lib/python3.9/site-packages (from pyasn1-modules>=0.2.1->google-auth<3,>=1.6.3->tensorboard<2.14,>=2.13->tensorflow) (0.4.8)\n",
      "Requirement already satisfied: oauthlib>=3.0.0 in /home/john/anaconda3/lib/python3.9/site-packages (from requests-oauthlib>=0.7.0->google-auth-oauthlib<1.1,>=0.5->tensorboard<2.14,>=2.13->tensorflow) (3.2.2)\n"
     ]
    },
    {
     "name": "stderr",
     "output_type": "stream",
     "text": [
      "2023-09-27 06:07:23.449823: I tensorflow/tsl/cuda/cudart_stub.cc:28] Could not find cuda drivers on your machine, GPU will not be used.\n",
      "2023-09-27 06:07:23.490637: I tensorflow/tsl/cuda/cudart_stub.cc:28] Could not find cuda drivers on your machine, GPU will not be used.\n",
      "2023-09-27 06:07:23.491673: I tensorflow/core/platform/cpu_feature_guard.cc:182] This TensorFlow binary is optimized to use available CPU instructions in performance-critical operations.\n",
      "To enable the following instructions: AVX2 FMA, in other operations, rebuild TensorFlow with the appropriate compiler flags.\n",
      "2023-09-27 06:07:24.198405: W tensorflow/compiler/tf2tensorrt/utils/py_utils.cc:38] TF-TRT Warning: Could not find TensorRT\n"
     ]
    }
   ],
   "source": [
    "!(pip install scikit-learn)\n",
    "!(pip install tensorflow)\n",
    "import numpy as np\n",
    "from keras.datasets import mnist\n",
    "from sklearn.model_selection import train_test_split\n",
    "from sklearn.feature_extraction.text import CountVectorizer\n",
    "from sklearn.naive_bayes import GaussianNB\n",
    "from sklearn.metrics import accuracy_score, classification_report, confusion_matrix\n",
    "import matplotlib.pyplot as plt\n",
    "import pandas as pd\n",
    "import joblib as jb"
   ]
  },
  {
   "cell_type": "code",
   "execution_count": 2,
   "id": "bd9c1edf",
   "metadata": {},
   "outputs": [],
   "source": [
    "#Modulo propio\n",
    "import naive_bayes_mnist"
   ]
  },
  {
   "cell_type": "markdown",
   "id": "2c5880da",
   "metadata": {},
   "source": [
    "### Cargamos los datos"
   ]
  },
  {
   "cell_type": "code",
   "execution_count": 5,
   "id": "5737b6a5",
   "metadata": {},
   "outputs": [
    {
     "name": "stdout",
     "output_type": "stream",
     "text": [
      "X_train:  (60000, 784)\n",
      "Y_train:  (60000,)\n",
      "X_test:   (10000, 784)\n",
      "Y_test:   (10000,)\n"
     ]
    }
   ],
   "source": [
    "shape_train=[int(i) for i in np.loadtxt('shape_train.csv')]\n",
    "shape_test=[int(i) for i in np.loadtxt('shape_test.csv')]\n",
    "x_train_p=np.reshape(mnist.load_data()[0][0],(shape_train[0],shape_train[1]*shape_train[2])) #pd.read_csv('x_train.csv',names=np.arange(shape_train[1]*shape_train[2]))\n",
    "y_train=pd.read_csv('y_train.csv',names=[0])[0]\n",
    "x_test_p=pd.read_csv('x_test.csv',names=np.arange(shape_test[1]*shape_train[2]))\n",
    "y_test=pd.read_csv('y_test.csv',names=[0])[0]\n",
    "print('X_train: ',x_train_p.shape) # Indices: (Imagen i, fila j, columna k)\n",
    "print('Y_train: ',y_train.shape)\n",
    "print('X_test:  ',x_test_p.shape)\n",
    "print('Y_test:  ',y_test.shape)"
   ]
  },
  {
   "cell_type": "code",
   "execution_count": 6,
   "id": "0ffcbf9e",
   "metadata": {},
   "outputs": [],
   "source": [
    "x_train=np.reshape(x_train_p,shape_train)\n",
    "x_test=np.reshape(x_test_p.values,shape_test)"
   ]
  },
  {
   "cell_type": "markdown",
   "id": "1f919342",
   "metadata": {},
   "source": [
    "### Primer intento con los Módulos de Scikitlearn\n",
    "\n",
    "Inicialmente intentamos con las funciones previamente implementadas de scikitlearn. Sin embargo, estas funciones reciben de entrada listas bidimensionales (nx1) por lo que ingresamos las imágenes planas. Sin embargo veremos que los resultados no fueron los mejores"
   ]
  },
  {
   "cell_type": "code",
   "execution_count": 7,
   "id": "d88777ce",
   "metadata": {
    "scrolled": true
   },
   "outputs": [],
   "source": [
    "nb_classifier = GaussianNB() #asumimos una distribución normal de los pixeles\n",
    "nb_classifier.fit(x_train_p, y_train) # ajuste del modelo\n",
    "y_pred = nb_classifier.predict(x_test_p) # valores predichos"
   ]
  },
  {
   "cell_type": "markdown",
   "id": "a7c44e6e",
   "metadata": {},
   "source": [
    "Ejemplo de uno de los valores predichos"
   ]
  },
  {
   "cell_type": "code",
   "execution_count": 8,
   "id": "e6008179",
   "metadata": {},
   "outputs": [
    {
     "name": "stdout",
     "output_type": "stream",
     "text": [
      "Valor predicho:  9\n"
     ]
    },
    {
     "data": {
      "text/plain": [
       "<matplotlib.image.AxesImage at 0x7f8e0d5a4910>"
      ]
     },
     "execution_count": 8,
     "metadata": {},
     "output_type": "execute_result"
    },
    {
     "data": {
      "image/png": "[encoded data removed]",
      "text/plain": [
       "<Figure size 432x288 with 1 Axes>"
      ]
     },
     "metadata": {
      "needs_background": "light"
     },
     "output_type": "display_data"
    }
   ],
   "source": [
    "print(\"Valor predicho: \",y_pred[0])\n",
    "plt.imshow(x_test[0])"
   ]
  },
  {
   "cell_type": "code",
   "execution_count": 9,
   "id": "61adcabb",
   "metadata": {},
   "outputs": [
    {
     "name": "stdout",
     "output_type": "stream",
     "text": [
      "Puntos etiquetados erróneamente de 10000 puntos : 4442\n",
      "Exactitud:  0.5558\n"
     ]
    }
   ],
   "source": [
    "accuracy = accuracy_score(y_test, y_pred)\n",
    "print(\"Puntos etiquetados erróneamente de %d puntos : %d\"\n",
    "      % (x_test_p.shape[0], (y_test != y_pred).sum()))\n",
    "print(\"Exactitud: \",accuracy)"
   ]
  },
  {
   "cell_type": "markdown",
   "id": "f925e805",
   "metadata": {},
   "source": [
    "Vemos que el modelo tiene una exactitud del 55.58%, que no será tan buena como la que obtendremos al realizarlo manualmente."
   ]
  },
  {
   "cell_type": "markdown",
   "id": "9cc060fa",
   "metadata": {},
   "source": [
    "### Naive Bayes Manual\n",
    "\n",
    "Asumimos que en cada pixel la versimilitud sigue una distribución normal. Calculamos la probabilidad de que cada píxel en cada imagen de testeo corresponda al píxel promedio de un número dado (Función de verosimilitud o likelihood). Luego hallamos el dígito correspondiente a la máxima probabilidad.\n",
    "\n",
    "En otras palabras, la verosimilitud de que la imagen $X_i$ corresponda con la característica/etiqueta $C_l$ se debe comparar pixel a pixel (pixeles independientes entre sí), de modo que viene dada por:\n",
    "\n",
    "$$P(X_i| C_l)= \\prod_{i=1}^{28\\times28}\\frac{1}{\\sqrt{2\\pi\\sigma_i^2}} \\exp{\\left [ -\\frac{(X_i-\\mu_i)^2}{2\\sigma_i^2}\\right ]} $$\n",
    "\n",
    "y la probabilidad de que sea $C_l$ es:\n",
    "$$ P(C_l)=P(X_i| C_l)P(X_i)$$\n",
    "\n",
    "Aplicamos log y sacamos el argumento (la inversa) para hallar $C_l$ que es la característica que queremos predecir de $X_i$:\n",
    "\n",
    "$$ C_l=argmax(\\log P(X_i| C_l)+\\log P(X_i))$$\n",
    "Vemos que $C_l$ aumenta con $P(X_i| C_l)$ y $P(X_i)$ por lo tanto solo hallaremos en el programa $\\log P(X_i| C_l)$."
   ]
  },
  {
   "cell_type": "markdown",
   "id": "6dc93558",
   "metadata": {},
   "source": [
    "Hallamos los parámetros mu y sigma para cada imagen a partir de los datos de entrenamiento"
   ]
  },
  {
   "cell_type": "code",
   "execution_count": 10,
   "id": "56dfdd64",
   "metadata": {
    "scrolled": false
   },
   "outputs": [
    {
     "name": "stdout",
     "output_type": "stream",
     "text": [
      "Promedios del entrenamiento\n"
     ]
    },
    {
     "data": {
      "image/png": "[encoded data removed]",
      "text/plain": [
       "<Figure size 864x432 with 10 Axes>"
      ]
     },
     "metadata": {
      "needs_background": "light"
     },
     "output_type": "display_data"
    }
   ],
   "source": [
    "av,sigma=naive_bayes_mnist.estadisticos(x_train,y_train)\n",
    "print(\"Promedios del entrenamiento\")\n",
    "fig, axs = plt.subplots(2, 5,figsize=(12, 6))\n",
    "# Plot something in each subplot\n",
    "for i, ax in enumerate(axs.flat):\n",
    "    ax.imshow(av[i], label=f'Plot {i+1}')\n",
    "    ax.set_title(f'Número {i}')\n",
    "\n",
    "plt.show()\n"
   ]
  },
  {
   "cell_type": "markdown",
   "id": "12d3ed4a",
   "metadata": {},
   "source": [
    "Método naive bayes para encontrar las características"
   ]
  },
  {
   "cell_type": "code",
   "execution_count": 11,
   "id": "bf3067cb",
   "metadata": {},
   "outputs": [],
   "source": [
    "# y_pred=naive_bayes_mnist(x_train,y_train,x_test)\n",
    "model=naive_bayes_mnist\n",
    "y_pred,prob=model.nb_mnist(x_train,y_train,x_test)"
   ]
  },
  {
   "cell_type": "code",
   "execution_count": 12,
   "id": "c8af5ac5",
   "metadata": {},
   "outputs": [
    {
     "name": "stdout",
     "output_type": "stream",
     "text": [
      "Ejemplo de algunas predicciones\n"
     ]
    },
    {
     "data": {
      "image/png": "[encoded data removed]",
      "text/plain": [
       "<Figure size 864x432 with 10 Axes>"
      ]
     },
     "metadata": {
      "needs_background": "light"
     },
     "output_type": "display_data"
    }
   ],
   "source": [
    "print(\"Ejemplo de algunas predicciones\")\n",
    "fig, axs = plt.subplots(2, 5,figsize=(12, 6))\n",
    "# Plot something in each subplot\n",
    "for i, ax in enumerate(axs.flat):\n",
    "    ax.imshow(x_test[i])\n",
    "    ax.set_title(f'y_pred= {y_pred[i]}')\n",
    "\n",
    "plt.show()"
   ]
  },
  {
   "cell_type": "markdown",
   "id": "c0dbbfee",
   "metadata": {},
   "source": [
    "## 3) Desempeño de Generalización del Problema de Clasificación (problem generalization performance)"
   ]
  },
  {
   "cell_type": "code",
   "execution_count": 13,
   "id": "25534c1d",
   "metadata": {
    "scrolled": true
   },
   "outputs": [
    {
     "name": "stdout",
     "output_type": "stream",
     "text": [
      "Puntos etiquetados erróneamente de 10000 puntos : 2619\n"
     ]
    }
   ],
   "source": [
    "print(\"Puntos etiquetados erróneamente de %d puntos : %d\"\n",
    "      % (x_test_p.shape[0], (y_test != y_pred).sum()))"
   ]
  },
  {
   "cell_type": "markdown",
   "id": "42227fa8",
   "metadata": {},
   "source": [
    "### Resultados de Principales Métricas de Clasificación\n",
    "\n",
    "Cada fila en la tabla corresponde a una clase diferente, e incluye varias métricas para cada clase y el rendimiento general del modelo."
   ]
  },
  {
   "cell_type": "code",
   "execution_count": 14,
   "id": "bc93e46e",
   "metadata": {
    "scrolled": false
   },
   "outputs": [
    {
     "name": "stdout",
     "output_type": "stream",
     "text": [
      "Accuracy: 0.7381\n"
     ]
    },
    {
     "data": {
      "text/html": [
       "<div>\n",
       "<style scoped>\n",
       "    .dataframe tbody tr th:only-of-type {\n",
       "        vertical-align: middle;\n",
       "    }\n",
       "\n",
       "    .dataframe tbody tr th {\n",
       "        vertical-align: top;\n",
       "    }\n",
       "\n",
       "    .dataframe thead th {\n",
       "        text-align: right;\n",
       "    }\n",
       "</style>\n",
       "<table border=\"1\" class=\"dataframe\">\n",
       "  <thead>\n",
       "    <tr style=\"text-align: right;\">\n",
       "      <th></th>\n",
       "      <th>precision</th>\n",
       "      <th>recall</th>\n",
       "      <th>f1-score</th>\n",
       "      <th>support</th>\n",
       "    </tr>\n",
       "  </thead>\n",
       "  <tbody>\n",
       "    <tr>\n",
       "      <th>0</th>\n",
       "      <td>0.905528</td>\n",
       "      <td>0.919388</td>\n",
       "      <td>0.912405</td>\n",
       "      <td>980.0000</td>\n",
       "    </tr>\n",
       "    <tr>\n",
       "      <th>1</th>\n",
       "      <td>0.762958</td>\n",
       "      <td>0.972687</td>\n",
       "      <td>0.855151</td>\n",
       "      <td>1135.0000</td>\n",
       "    </tr>\n",
       "    <tr>\n",
       "      <th>2</th>\n",
       "      <td>0.923430</td>\n",
       "      <td>0.584302</td>\n",
       "      <td>0.715727</td>\n",
       "      <td>1032.0000</td>\n",
       "    </tr>\n",
       "    <tr>\n",
       "      <th>3</th>\n",
       "      <td>0.797632</td>\n",
       "      <td>0.733663</td>\n",
       "      <td>0.764312</td>\n",
       "      <td>1010.0000</td>\n",
       "    </tr>\n",
       "    <tr>\n",
       "      <th>4</th>\n",
       "      <td>0.862888</td>\n",
       "      <td>0.480652</td>\n",
       "      <td>0.617397</td>\n",
       "      <td>982.0000</td>\n",
       "    </tr>\n",
       "    <tr>\n",
       "      <th>5</th>\n",
       "      <td>0.876607</td>\n",
       "      <td>0.382287</td>\n",
       "      <td>0.532397</td>\n",
       "      <td>892.0000</td>\n",
       "    </tr>\n",
       "    <tr>\n",
       "      <th>6</th>\n",
       "      <td>0.773124</td>\n",
       "      <td>0.924843</td>\n",
       "      <td>0.842205</td>\n",
       "      <td>958.0000</td>\n",
       "    </tr>\n",
       "    <tr>\n",
       "      <th>7</th>\n",
       "      <td>0.931701</td>\n",
       "      <td>0.703307</td>\n",
       "      <td>0.801552</td>\n",
       "      <td>1028.0000</td>\n",
       "    </tr>\n",
       "    <tr>\n",
       "      <th>8</th>\n",
       "      <td>0.531056</td>\n",
       "      <td>0.702259</td>\n",
       "      <td>0.604775</td>\n",
       "      <td>974.0000</td>\n",
       "    </tr>\n",
       "    <tr>\n",
       "      <th>9</th>\n",
       "      <td>0.506011</td>\n",
       "      <td>0.917740</td>\n",
       "      <td>0.652342</td>\n",
       "      <td>1009.0000</td>\n",
       "    </tr>\n",
       "    <tr>\n",
       "      <th>accuracy</th>\n",
       "      <td>0.738100</td>\n",
       "      <td>0.738100</td>\n",
       "      <td>0.738100</td>\n",
       "      <td>0.7381</td>\n",
       "    </tr>\n",
       "    <tr>\n",
       "      <th>macro avg</th>\n",
       "      <td>0.787093</td>\n",
       "      <td>0.732113</td>\n",
       "      <td>0.729826</td>\n",
       "      <td>10000.0000</td>\n",
       "    </tr>\n",
       "    <tr>\n",
       "      <th>weighted avg</th>\n",
       "      <td>0.786751</td>\n",
       "      <td>0.738100</td>\n",
       "      <td>0.733461</td>\n",
       "      <td>10000.0000</td>\n",
       "    </tr>\n",
       "  </tbody>\n",
       "</table>\n",
       "</div>"
      ],
      "text/plain": [
       "              precision    recall  f1-score     support\n",
       "0              0.905528  0.919388  0.912405    980.0000\n",
       "1              0.762958  0.972687  0.855151   1135.0000\n",
       "2              0.923430  0.584302  0.715727   1032.0000\n",
       "3              0.797632  0.733663  0.764312   1010.0000\n",
       "4              0.862888  0.480652  0.617397    982.0000\n",
       "5              0.876607  0.382287  0.532397    892.0000\n",
       "6              0.773124  0.924843  0.842205    958.0000\n",
       "7              0.931701  0.703307  0.801552   1028.0000\n",
       "8              0.531056  0.702259  0.604775    974.0000\n",
       "9              0.506011  0.917740  0.652342   1009.0000\n",
       "accuracy       0.738100  0.738100  0.738100      0.7381\n",
       "macro avg      0.787093  0.732113  0.729826  10000.0000\n",
       "weighted avg   0.786751  0.738100  0.733461  10000.0000"
      ]
     },
     "execution_count": 14,
     "metadata": {},
     "output_type": "execute_result"
    }
   ],
   "source": [
    "# Evaluate the model\n",
    "accuracy = accuracy_score(y_test, y_pred)\n",
    "report = pd.DataFrame.from_dict(classification_report(y_test, y_pred,output_dict=True)).transpose()\n",
    "print(f\"Accuracy: {accuracy}\")\n",
    "report"
   ]
  },
  {
   "cell_type": "markdown",
   "id": "a8930bd7",
   "metadata": {},
   "source": [
    "Desglosemos las métricas clave:\n",
    "\n",
    "- **Precisión** (Precision): Modelo logra una alta precisión en la mayoría de las clases, lo que significa que la mayoría de las instancias predichas como pertenecientes a esas clases son realmente correctas. Por ejemplo, para la Clase 0, la precisión es del 90.55%, lo que indica que el 90.55% de las instancias predichas como Clase 0 son correctas.\n",
    "\n",
    "- **Recuperación** (Recall): El modelo también logra una alta recuperación en la mayoría de las clases, lo que significa que identifica correctamente la mayoría de las instancias reales de esas clases. Por ejemplo, para la Clase 1, la recuperación es del 97.27%, lo que indica que el 97.27% de las instancias reales de la Clase 1 son identificadas correctamente.\n",
    "\n",
    "- **Puntaje F1** (F1-score): El puntaje F1 de Modelo es alto en la mayoría de las clases, lo que demuestra un equilibrio entre precisión y recuperación. Por ejemplo, para la Clase 2, el puntaje F1 es del 71.57%, lo que indica un buen equilibrio entre la capacidad de clasificar correctamente y la identificación de instancias reales.\n",
    "\n",
    "- **Soporte**: El soporte representa el número de ocurrencias reales de cada clase en el conjunto de datos. Modelo 1 tiene soportes significativos para todas las clases, lo que indica que se ha evaluado en un conjunto de datos diverso.\n",
    "\n",
    "- **Exactitud** (Accuracy): La exactitud general de Modelo es del 73.81%, lo que significa que predice correctamente el 73.81% de las instancias en el conjunto de datos. Además si lo comparamos con el primero intento, vemos que la exactitud es mucho mejor (comparada con el 55.58%)\n",
    "\n",
    "En resumen, Modelo  demuestra un buen rendimiento en la mayoría de las clases, con altos valores de precisión, recuperación y puntaje F1. Esto sugiere que el modelo es efectivo en la clasificación de las instancias y logra un equilibrio entre la precisión y la capacidad para identificar las instancias reales en el problema de clasificación multiclase."
   ]
  },
  {
   "cell_type": "markdown",
   "id": "5024ef1a",
   "metadata": {},
   "source": [
    "### Matriz de Confusión\n",
    "\n",
    "Esta es la matriz de confusión para el problema de reconocimiento de dígitos, donde cada fila representa una clase de dígito (0-9) y cada columna representa las predicciones del modelo para esas clases. Los números en la matriz indican la cantidad de instancias clasificadas en cada categoría. Aquí están las observaciones:\n"
   ]
  },
  {
   "cell_type": "code",
   "execution_count": 15,
   "id": "53b019b4",
   "metadata": {},
   "outputs": [
    {
     "data": {
      "text/plain": [
       "<matplotlib.colorbar.Colorbar at 0x7f8e0fbbb400>"
      ]
     },
     "execution_count": 15,
     "metadata": {},
     "output_type": "execute_result"
    },
    {
     "data": {
      "image/png": "[encoded data removed]",
      "text/plain": [
       "<Figure size 432x288 with 2 Axes>"
      ]
     },
     "metadata": {
      "needs_background": "light"
     },
     "output_type": "display_data"
    }
   ],
   "source": [
    "plt.imshow(confusion_matrix(y_test,y_pred),cmap='Reds')\n",
    "plt.title(\"Número de datos\")\n",
    "plt.colorbar()"
   ]
  },
  {
   "cell_type": "markdown",
   "id": "3e0f2c56",
   "metadata": {},
   "source": [
    "```\n",
    "Matriz de Confusión:\n",
    "\n",
    "            Actual\n",
    "          0  1  2  3  4  5  6  7  8  9\n",
    "Predicho\n",
    "  0     901   1   2   1   2   5  23   1  35   9\n",
    "  1       0  1104   2   3   0   0   6   0  18   2\n",
    "  2      26   46  603  55  10   0 126   8 145  13\n",
    "  3      11   57  15  741   2   9  25  12  68  70\n",
    "  4       5   14   6   2  472   9  33   5  25 411\n",
    "  5      31   43   6  87  18  341  33   9 250  74\n",
    "  6       7   24   6   1   3  12 886   0  18   1\n",
    "  7       0   32   4   8  14   1   4 723  27 215\n",
    "  8       9  106   5  24   9  12  10   6 684 109\n",
    "  9       5   20   4   7  17   0   0  12  18 926\n",
    "```\n",
    "- En la diagonal principal, se observan los números de instancias que fueron clasificadas correctamente. Por ejemplo, en la celda (0, 0), se clasificaron correctamente 901 instancias como clase 0.\n",
    "\n",
    "- Fuera de la diagonal principal, se encuentran las instancias en las que el modelo cometió errores de clasificación. Por ejemplo, en la celda (2, 7), hay un valor de 8, lo que indica que 8 instancias de la clase 2 se clasificaron incorrectamente como clase 7.\n",
    "\n",
    "- Las filas representan las clases reales (ground truth), y las columnas representan las predicciones del modelo.\n",
    "\n",
    "- Se puede observar cómo el modelo se desempeña en cada clase y dónde tiende a cometer errores con mayor frecuencia. Por ejemplo, parece que el modelo tiene dificultades para distinguir entre las clases 2 y 8, ya que hay varios errores en esas celdas.\n",
    "\n",
    "- Esta matriz de confusión es una herramienta valiosa para evaluar el rendimiento del modelo y comprender dónde se necesitan mejoras. Puede ser útil para ajustar el modelo o tomar decisiones sobre estrategias específicas para mejorar la clasificación en clases problemáticas."
   ]
  },
  {
   "cell_type": "code",
   "execution_count": 16,
   "id": "6fcbda30",
   "metadata": {},
   "outputs": [
    {
     "data": {
      "text/plain": [
       "['./model']"
      ]
     },
     "execution_count": 16,
     "metadata": {},
     "output_type": "execute_result"
    }
   ],
   "source": [
    "jb.dump(model.nb_mnist, \"./model\")"
   ]
  },
  {
   "cell_type": "code",
   "execution_count": 17,
   "id": "636cf5e7",
   "metadata": {},
   "outputs": [
    {
     "data": {
      "text/plain": [
       "['./y_train_copy']"
      ]
     },
     "execution_count": 17,
     "metadata": {},
     "output_type": "execute_result"
    }
   ],
   "source": [
    "# jb.dump(x_train, \"./x_train_copy\")\n",
    "jb.dump(y_train, \"./y_train_copy\")"
   ]
  },
  {
   "cell_type": "code",
   "execution_count": null,
   "id": "29efc008",
   "metadata": {},
   "outputs": [],
   "source": []
  }
 ],
 "metadata": {
  "kernelspec": {
   "display_name": "Python 3 (ipykernel)",
   "language": "python",
   "name": "python3"
  },
  "language_info": {
   "codemirror_mode": {
    "name": "ipython",
    "version": 3
   },
   "file_extension": ".py",
   "mimetype": "text/x-python",
   "name": "python",
   "nbconvert_exporter": "python",
   "pygments_lexer": "ipython3",
   "version": "3.9.12"
  }
 },
 "nbformat": 4,
 "nbformat_minor": 5
}
