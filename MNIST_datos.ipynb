{
 "cells": [
  {
   "cell_type": "markdown",
   "id": "a2acd3d5",
   "metadata": {},
   "source": [
    "La base de datos MNIST contiene un conjunto de 70,000 imágenes en blanco y negro de dígitos del 0 al 9 escritos a mano. Estas imágenes se recopilaron de formularios escritos a mano por empleados de la Oficina del Censo de los Estados Unidos y estudiantes universitarios.\n",
    "    \n",
    "* El objetivo de esta actividad es crear un algoritmo basado en Naive-Bayes que clasifique correctamente los dígitos que se encuentran en la base de datos MNIST."
   ]
  },
  {
   "cell_type": "markdown",
   "id": "6a2ced57",
   "metadata": {},
   "source": [
    "inicialmente utilizamos los datos de keras, según digitalocean:\n",
    "https://www.digitalocean.com/community/tutorials/mnist-dataset-in-python\n",
    "\n",
    "También se pueden descargar de:\n",
    "https://www.kaggle.com/datasets/hojjatk/mnist-dataset"
   ]
  },
  {
   "cell_type": "code",
   "execution_count": 1,
   "id": "7fc29cb8",
   "metadata": {},
   "outputs": [
    {
     "name": "stdout",
     "output_type": "stream",
     "text": [
      "Requirement already satisfied: keras in /home/john/anaconda3/lib/python3.9/site-packages (2.13.1)\r\n"
     ]
    },
    {
     "name": "stderr",
     "output_type": "stream",
     "text": [
      "2023-09-27 02:37:43.867856: I tensorflow/tsl/cuda/cudart_stub.cc:28] Could not find cuda drivers on your machine, GPU will not be used.\n",
      "2023-09-27 02:37:46.900240: I tensorflow/tsl/cuda/cudart_stub.cc:28] Could not find cuda drivers on your machine, GPU will not be used.\n",
      "2023-09-27 02:37:46.923704: I tensorflow/core/platform/cpu_feature_guard.cc:182] This TensorFlow binary is optimized to use available CPU instructions in performance-critical operations.\n",
      "To enable the following instructions: AVX2 FMA, in other operations, rebuild TensorFlow with the appropriate compiler flags.\n",
      "2023-09-27 02:37:54.876242: W tensorflow/compiler/tf2tensorrt/utils/py_utils.cc:38] TF-TRT Warning: Could not find TensorRT\n"
     ]
    }
   ],
   "source": [
    "!(pip install keras)\n",
    "from keras.datasets import mnist\n",
    "import numpy as np\n",
    "import matplotlib.pyplot as plt\n",
    "import pandas as pd"
   ]
  },
  {
   "cell_type": "markdown",
   "id": "c9f2097f",
   "metadata": {},
   "source": [
    "\n",
    "## Formato:\n",
    "\n",
    "Cada imagen en la base de datos MNIST es una matriz de 28x28 píxeles, lo que significa que cada imagen tiene 28 píxeles de ancho y 28 píxeles de alto. Cada píxel se representa como un valor de escala de grises, que varía de 0 (negro) a 255 (blanco).\n",
    "\n",
    "### Cargamos los datos\n",
    "\n",
    "Training: x_train (imágenes), y_train (características)\n",
    "Test: x_test (imágenes), y_test (características)\n",
    "\n",
    "Test:\n",
    "Convertimos a numpy para poder llamar los elementos más fácilmente\n"
   ]
  },
  {
   "cell_type": "code",
   "execution_count": 5,
   "id": "05ec7b93",
   "metadata": {},
   "outputs": [
    {
     "name": "stdout",
     "output_type": "stream",
     "text": [
      "X_train:  (60000, 28, 28)\n",
      "Y_train:  (60000,)\n",
      "X_test:   (10000, 28, 28)\n",
      "Y_test:   (10000,)\n"
     ]
    }
   ],
   "source": [
    "(x_train, y_train), (x_test, y_test) = mnist.load_data()\n",
    "x_train=np.array(x_train) \n",
    "y_train=np.array(y_train)\n",
    "x_test=np.array(x_test)\n",
    "y_test=np.array(y_test)\n",
    "print('X_train: ',x_train.shape) # Indices: (Imagen i, fila j, columna k)\n",
    "print('Y_train: ',y_train.shape)\n",
    "print('X_test:  ',x_test.shape)\n",
    "print('Y_test:  ',y_test.shape)"
   ]
  },
  {
   "cell_type": "markdown",
   "id": "b64e0e22",
   "metadata": {},
   "source": [
    "## Mostramos algunos de los datos a manera de ejemplo"
   ]
  },
  {
   "cell_type": "code",
   "execution_count": 6,
   "id": "85873d72",
   "metadata": {},
   "outputs": [
    {
     "data": {
      "image/png": "[encoded data removed]",
      "text/plain": [
       "<Figure size 1080x432 with 10 Axes>"
      ]
     },
     "metadata": {
      "needs_background": "light"
     },
     "output_type": "display_data"
    }
   ],
   "source": [
    "fig, axs = plt.subplots(2, 5,figsize=(15, 6))\n",
    "# Plot something in each subplot\n",
    "for i, ax in enumerate(axs.flat):\n",
    "    ax.imshow(x_train[i], label=f'Plot {i+1}')\n",
    "    ax.set_title(f'Número {y_train[i]}')\n",
    "\n",
    "plt.show()\n"
   ]
  },
  {
   "cell_type": "markdown",
   "id": "12a5bf58",
   "metadata": {},
   "source": [
    "Guardamos los datos en archivos csv. Por eficiencia en tiempo convertimos la matriz 3D a 2D y guardamos los datos mediante numpy"
   ]
  },
  {
   "cell_type": "code",
   "execution_count": 7,
   "id": "cef9e6b2",
   "metadata": {},
   "outputs": [],
   "source": [
    "np.savetxt(\"shape_train.csv\",x_train.shape, fmt=\"%.0f\")\n",
    "np.savetxt(\"shape_test.csv\",x_test.shape, fmt=\"%.0f\")\n",
    "x_train=x_train.reshape((x_train.shape[0],x_train.shape[1]*x_train.shape[2]))\n",
    "x_test=x_test.reshape((x_test.shape[0],x_test.shape[1]*x_test.shape[2]))\n",
    "np.savetxt(\"x_train.csv\",x_train, fmt=\"%.0f\",delimiter=',')\n",
    "np.savetxt(\"x_test.csv\",x_test, fmt=\"%.0f\",delimiter=',')\n",
    "np.savetxt(\"y_train.csv\",y_train, fmt=\"%.0f\",delimiter=',')\n",
    "np.savetxt(\"y_test.csv\",y_test, fmt=\"%.0f\",delimiter=',')"
   ]
  },
  {
   "cell_type": "code",
   "execution_count": null,
   "id": "d0db6303",
   "metadata": {},
   "outputs": [],
   "source": []
  }
 ],
 "metadata": {
  "kernelspec": {
   "display_name": "Python 3 (ipykernel)",
   "language": "python",
   "name": "python3"
  },
  "language_info": {
   "codemirror_mode": {
    "name": "ipython",
    "version": 3
   },
   "file_extension": ".py",
   "mimetype": "text/x-python",
   "name": "python",
   "nbconvert_exporter": "python",
   "pygments_lexer": "ipython3",
   "version": "3.9.12"
  }
 },
 "nbformat": 4,
 "nbformat_minor": 5
}
