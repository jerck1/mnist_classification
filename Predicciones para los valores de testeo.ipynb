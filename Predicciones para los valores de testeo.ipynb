{
 "cells": [
  {
   "cell_type": "markdown",
   "id": "69e90bab",
   "metadata": {},
   "source": [
    "## 4) Aplicación del modelo a nuevos datos"
   ]
  },
  {
   "cell_type": "code",
   "execution_count": 17,
   "id": "948c60b3",
   "metadata": {},
   "outputs": [
    {
     "name": "stderr",
     "output_type": "stream",
     "text": [
      "2023-09-27 05:56:27.031495: I tensorflow/tsl/cuda/cudart_stub.cc:28] Could not find cuda drivers on your machine, GPU will not be used.\n",
      "2023-09-27 05:56:32.063399: I tensorflow/tsl/cuda/cudart_stub.cc:28] Could not find cuda drivers on your machine, GPU will not be used.\n",
      "2023-09-27 05:56:32.086381: I tensorflow/core/platform/cpu_feature_guard.cc:182] This TensorFlow binary is optimized to use available CPU instructions in performance-critical operations.\n",
      "To enable the following instructions: AVX2 FMA, in other operations, rebuild TensorFlow with the appropriate compiler flags.\n",
      "2023-09-27 05:56:42.312164: W tensorflow/compiler/tf2tensorrt/utils/py_utils.cc:38] TF-TRT Warning: Could not find TensorRT\n"
     ]
    }
   ],
   "source": [
    "from ipywidgets import widgets\n",
    "import joblib as jb\n",
    "import numpy as np\n",
    "import matplotlib.pyplot as plt\n",
    "import pandas as pd\n",
    "from keras.datasets import mnist"
   ]
  },
  {
   "cell_type": "code",
   "execution_count": 18,
   "id": "ad30c404",
   "metadata": {},
   "outputs": [],
   "source": [
    "#Cargamos los datos\n",
    "(x_train, y_train), (x_test, y_test) = mnist.load_data()\n",
    "x_train=np.array(x_train) \n",
    "y_train=np.array(y_train)\n",
    "x_test=np.array(x_test)\n",
    "y_test=np.array(y_test)"
   ]
  },
  {
   "cell_type": "markdown",
   "id": "60a55f7d",
   "metadata": {},
   "source": [
    "Importamos el modelo"
   ]
  },
  {
   "cell_type": "code",
   "execution_count": 19,
   "id": "17093f49",
   "metadata": {},
   "outputs": [],
   "source": [
    "model=jb.load(\"./model\")\n",
    "# x_train=jb.load(\"./x_train_copy\")\n",
    "# y_train=jb.load(\"./y_train_copy\")"
   ]
  },
  {
   "cell_type": "code",
   "execution_count": 20,
   "id": "6644c8d6",
   "metadata": {},
   "outputs": [],
   "source": [
    "image=dict()\n",
    "image[0] = np.zeros((28, 28))\n",
    "image[0][::2, ::2] = 1\n",
    "image[0][1::2, 1::2] = 1\n",
    "# matrix with a one at its center\n",
    "image[1] = np.zeros((28, 28))\n",
    "image[1][:, 14] = 1  # Set the central column to 1\n"
   ]
  },
  {
   "cell_type": "markdown",
   "id": "7744cb33",
   "metadata": {},
   "source": [
    "con model predecimos la clasificación para las dos figuras"
   ]
  },
  {
   "cell_type": "code",
   "execution_count": 13,
   "id": "57454517",
   "metadata": {},
   "outputs": [
    {
     "name": "stdout",
     "output_type": "stream",
     "text": [
      "Valor predicho:  [1]\n"
     ]
    },
    {
     "data": {
      "image/png": "[encoded data removed]",
      "text/plain": [
       "<Figure size 432x288 with 1 Axes>"
      ]
     },
     "metadata": {
      "needs_background": "light"
     },
     "output_type": "display_data"
    },
    {
     "name": "stdout",
     "output_type": "stream",
     "text": [
      "Valor predicho:  [1]\n"
     ]
    },
    {
     "data": {
      "image/png": "[encoded data removed]",
      "text/plain": [
       "<Figure size 432x288 with 1 Axes>"
      ]
     },
     "metadata": {
      "needs_background": "light"
     },
     "output_type": "display_data"
    }
   ],
   "source": [
    "for w in range(2):\n",
    "    y_pred,prob=model(x_train,y_train,image[int(w)])\n",
    "    print(\"Valor predicho: \",y_pred)\n",
    "    plt.imshow(image[int(w)])\n",
    "    plt.show()"
   ]
  },
  {
   "cell_type": "code",
   "execution_count": null,
   "id": "65ad79ae",
   "metadata": {},
   "outputs": [],
   "source": []
  }
 ],
 "metadata": {
  "kernelspec": {
   "display_name": "Python 3 (ipykernel)",
   "language": "python",
   "name": "python3"
  },
  "language_info": {
   "codemirror_mode": {
    "name": "ipython",
    "version": 3
   },
   "file_extension": ".py",
   "mimetype": "text/x-python",
   "name": "python",
   "nbconvert_exporter": "python",
   "pygments_lexer": "ipython3",
   "version": "3.9.12"
  }
 },
 "nbformat": 4,
 "nbformat_minor": 5
}
